{
 "cells": [
  {
   "cell_type": "code",
   "execution_count": 1,
   "metadata": {
    "collapsed": true
   },
   "outputs": [],
   "source": [
    "#CMS Measures History Notebook\n",
    "#01/16/2017\n",
    "\n",
    "import pandas as pd\n",
    "import datetime\n",
    "import matplotlib.pyplot as plt\n",
    "import warnings\n",
    "warnings.filterwarnings(\"ignore\")\n",
    "import seaborn as sns\n",
    "from sklearn.model_selection import train_test_split\n",
    "from sklearn.metrics import mean_squared_error\n",
    "from sklearn.tree import DecisionTreeRegressor\n",
    "from sklearn.ensemble import RandomForestRegressor\n",
    "%matplotlib inline\n",
    "import matplotlib\n",
    "import numpy as np\n",
    "from __future__ import division"
   ]
  },
  {
   "cell_type": "code",
   "execution_count": null,
   "metadata": {
    "collapsed": true
   },
   "outputs": [],
   "source": []
  },
  {
   "cell_type": "code",
   "execution_count": 2,
   "metadata": {
    "collapsed": false
   },
   "outputs": [
    {
     "data": {
      "text/html": [
       "<div>\n",
       "<table border=\"1\" class=\"dataframe\">\n",
       "  <thead>\n",
       "    <tr style=\"text-align: right;\">\n",
       "      <th></th>\n",
       "      <th>Summary Score</th>\n",
       "      <th>Star Rating</th>\n",
       "      <th>Report Type</th>\n",
       "      <th>Mortality</th>\n",
       "      <th>Saftey of Care</th>\n",
       "      <th>Readmission</th>\n",
       "      <th>Patient Experience</th>\n",
       "      <th>Effectiveness of Care</th>\n",
       "      <th>Timeliness of Care</th>\n",
       "      <th>Efficient use of medical imaging</th>\n",
       "    </tr>\n",
       "    <tr>\n",
       "      <th>Date</th>\n",
       "      <th></th>\n",
       "      <th></th>\n",
       "      <th></th>\n",
       "      <th></th>\n",
       "      <th></th>\n",
       "      <th></th>\n",
       "      <th></th>\n",
       "      <th></th>\n",
       "      <th></th>\n",
       "      <th></th>\n",
       "    </tr>\n",
       "  </thead>\n",
       "  <tbody>\n",
       "    <tr>\n",
       "      <th>2016-01-20</th>\n",
       "      <td>-0.520000</td>\n",
       "      <td>2.0</td>\n",
       "      <td>Preview</td>\n",
       "      <td>-0.510000</td>\n",
       "      <td>-1.27000</td>\n",
       "      <td>0.610000</td>\n",
       "      <td>-0.95000</td>\n",
       "      <td>0.25000</td>\n",
       "      <td>-1.00000</td>\n",
       "      <td>NaN</td>\n",
       "    </tr>\n",
       "    <tr>\n",
       "      <th>2016-07-29</th>\n",
       "      <td>-0.750000</td>\n",
       "      <td>2.0</td>\n",
       "      <td>Preview</td>\n",
       "      <td>-0.300000</td>\n",
       "      <td>-1.43000</td>\n",
       "      <td>-0.100000</td>\n",
       "      <td>-1.28000</td>\n",
       "      <td>-0.28000</td>\n",
       "      <td>-1.18000</td>\n",
       "      <td>NaN</td>\n",
       "    </tr>\n",
       "    <tr>\n",
       "      <th>2016-10-01</th>\n",
       "      <td>-0.750000</td>\n",
       "      <td>2.0</td>\n",
       "      <td>Published</td>\n",
       "      <td>-0.291302</td>\n",
       "      <td>-1.44100</td>\n",
       "      <td>-0.097824</td>\n",
       "      <td>-1.28158</td>\n",
       "      <td>0.28571</td>\n",
       "      <td>-1.19144</td>\n",
       "      <td>NaN</td>\n",
       "    </tr>\n",
       "    <tr>\n",
       "      <th>2016-12-01</th>\n",
       "      <td>-0.841439</td>\n",
       "      <td>2.0</td>\n",
       "      <td>Published</td>\n",
       "      <td>-0.290970</td>\n",
       "      <td>-1.43131</td>\n",
       "      <td>-0.102085</td>\n",
       "      <td>-1.04513</td>\n",
       "      <td>-2.90746</td>\n",
       "      <td>-1.50490</td>\n",
       "      <td>NaN</td>\n",
       "    </tr>\n",
       "    <tr>\n",
       "      <th>2017-01-10</th>\n",
       "      <td>-0.840000</td>\n",
       "      <td>2.0</td>\n",
       "      <td>Preview</td>\n",
       "      <td>-0.300000</td>\n",
       "      <td>-1.42000</td>\n",
       "      <td>-0.100000</td>\n",
       "      <td>-1.04000</td>\n",
       "      <td>-2.97000</td>\n",
       "      <td>-1.45000</td>\n",
       "      <td>NaN</td>\n",
       "    </tr>\n",
       "  </tbody>\n",
       "</table>\n",
       "</div>"
      ],
      "text/plain": [
       "            Summary Score  Star Rating Report Type  Mortality  Saftey of Care  \\\n",
       "Date                                                                            \n",
       "2016-01-20      -0.520000          2.0     Preview  -0.510000        -1.27000   \n",
       "2016-07-29      -0.750000          2.0     Preview  -0.300000        -1.43000   \n",
       "2016-10-01      -0.750000          2.0   Published  -0.291302        -1.44100   \n",
       "2016-12-01      -0.841439          2.0   Published  -0.290970        -1.43131   \n",
       "2017-01-10      -0.840000          2.0     Preview  -0.300000        -1.42000   \n",
       "\n",
       "            Readmission  Patient Experience  Effectiveness of Care  \\\n",
       "Date                                                                 \n",
       "2016-01-20     0.610000            -0.95000                0.25000   \n",
       "2016-07-29    -0.100000            -1.28000               -0.28000   \n",
       "2016-10-01    -0.097824            -1.28158                0.28571   \n",
       "2016-12-01    -0.102085            -1.04513               -2.90746   \n",
       "2017-01-10    -0.100000            -1.04000               -2.97000   \n",
       "\n",
       "            Timeliness of Care  Efficient use of medical imaging  \n",
       "Date                                                              \n",
       "2016-01-20            -1.00000                               NaN  \n",
       "2016-07-29            -1.18000                               NaN  \n",
       "2016-10-01            -1.19144                               NaN  \n",
       "2016-12-01            -1.50490                               NaN  \n",
       "2017-01-10            -1.45000                               NaN  "
      ]
     },
     "execution_count": 2,
     "metadata": {},
     "output_type": "execute_result"
    }
   ],
   "source": [
    "summaryScores = pd.DataFrame(columns = ['Date','Summary Score','Star Rating','Report Type','Mortality','Saftey of Care','Readmission',\n",
    "                                       'Patient Experience','Effectiveness of Care','Timeliness of Care',\n",
    "                                        'Efficient use of medical imaging'])\n",
    "\n",
    "summaryScores.loc[0] = pd.Series({'Date' : datetime.date(2016, 12, 1), 'Summary Score': -0.841439499,  'Report Type': 'Published',\n",
    "                                  'Mortality' : -.29097,'Saftey of Care' : -1.43131,'Readmission' : -.102085,\n",
    "                                  'Patient Experience' : -1.04513,\n",
    "                                  'Effectiveness of Care': -2.90746,'Timeliness of Care': -1.5049, 'Star Rating' : 2})\n",
    "summaryScores.loc[1] = pd.Series({'Date' : datetime.date(2016, 10, 1), 'Summary Score': -0.750,  'Report Type' : 'Published',\n",
    "                                  'Mortality' : -0.291302,'Saftey of Care' : -1.441,'Readmission' : -0.0978241,\n",
    "                                  'Patient Experience' : -1.28158,\n",
    "                                  'Effectiveness of Care': 0.28571,'Timeliness of Care': -1.19144, 'Star Rating' : 2})\n",
    "summaryScores.loc[2] = pd.Series({'Date' : datetime.date(2017, 1, 10), 'Summary Score': -0.84,  'Report Type' : 'Preview',\n",
    "                                 'Mortality' : -.30,'Saftey of Care' : -1.42,'Readmission' : -.10,\n",
    "                                       'Patient Experience' : -1.04,'Effectiveness of Care': -2.97,'Timeliness of Care': -1.45, 'Star Rating' : 2})\n",
    "summaryScores.loc[3] = pd.Series({'Date' : datetime.date(2016, 1, 20), 'Summary Score': -0.52,   'Report Type' : 'Preview',\n",
    "                                 'Mortality' : -.51,'Saftey of Care' : -1.27,'Readmission' : .61,\n",
    "                                       'Patient Experience' : -.95,'Effectiveness of Care': .25,'Timeliness of Care': -1.00, 'Star Rating' : 2})\n",
    "summaryScores.loc[4] = pd.Series({'Date' : datetime.date(2016, 7, 29), 'Summary Score': -0.750,  'Report Type' : 'Preview',\n",
    "                                 'Mortality' : -.30,'Saftey of Care' : -1.43,'Readmission' : -.10,\n",
    "                                       'Patient Experience' : -1.28,'Effectiveness of Care': -.28,'Timeliness of Care': -1.18, 'Star Rating' : 2})\n",
    "\n",
    "# 01/20/2016 - Reporting Period for Clinical Process Measures: Third Quarter 2014 through Second Quarter 2015 Discharges\n",
    "# 01/10/2017 - Reporting Period for Clinical Process Measures: Third Quarter 2015 through Second Quarter 2016 Discharges\n",
    "# 01/10/2017 - Reporting Period for Structural Measures: First Quarter 2015 through Fourth Quarter 2015 Discharges\n",
    "# \n",
    "\n",
    "#groupScores = pd.Dataframe(columns = ['Date','Score','Group Name'])\n",
    "summaryScores = summaryScores.set_index('Date')\n",
    "summaryScores.sort_index(inplace=True)\n",
    "summaryScores"
   ]
  },
  {
   "cell_type": "code",
   "execution_count": 3,
   "metadata": {
    "collapsed": false
   },
   "outputs": [],
   "source": [
    "plot = summaryScores.loc[summaryScores['Report Type']=='Preview']"
   ]
  },
  {
   "cell_type": "code",
   "execution_count": 4,
   "metadata": {
    "collapsed": false
   },
   "outputs": [
    {
     "data": {
      "text/plain": [
       "<matplotlib.lines.Line2D at 0xcf5b240>"
      ]
     },
     "execution_count": 4,
     "metadata": {},
     "output_type": "execute_result"
    },
    {
     "data": {
      "image/png": "[encoded data removed]",
      "text/plain": [
       "<matplotlib.figure.Figure at 0xcd0e4e0>"
      ]
     },
     "metadata": {},
     "output_type": "display_data"
    }
   ],
   "source": [
    "plt.figure(figsize=(10,7))\n",
    "axes = plt.gca()\n",
    "axes.set_ylim([-2.1,2.1])\n",
    "plt.title(\"ANMC Summary Scores by Date Available\")\n",
    "plt.xlabel('Date')\n",
    "plt.ylabel('ANMC Summary Score Rating')\n",
    "plt.scatter(plot.index.values,plot['Summary Score']);\n",
    "plt.axhline(y=-1.05,color='red')\n",
    "plt.axhline(y=-1.00,color='orange')\n",
    "plt.axhline(y=-.38,color='orange')\n",
    "plt.axhline(y=-.33,color='yellow')\n",
    "plt.axhline(y=.20,color='yellow')\n",
    "plt.axhline(y=.25,color='cyan')\n",
    "plt.axhline(y=.82,color='cyan')\n",
    "plt.axhline(y=.87,color='green')\n",
    "plt.axhline(y=2,color='green')\n",
    "plt.axhline(y=-2,color='red')"
   ]
  },
  {
   "cell_type": "code",
   "execution_count": 6,
   "metadata": {
    "collapsed": false
   },
   "outputs": [
    {
     "data": {
      "text/plain": [
       "<matplotlib.lines.Line2D at 0xd3f4a90>"
      ]
     },
     "execution_count": 6,
     "metadata": {},
     "output_type": "execute_result"
    },
    {
     "data": {
      "image/png": "[encoded data removed]",
      "text/plain": [
       "<matplotlib.figure.Figure at 0xcca62e8>"
      ]
     },
     "metadata": {},
     "output_type": "display_data"
    }
   ],
   "source": [
    "plot.set_value('2017-07-29','Summary Score',-1.18)\n",
    "plot.set_value('2017-07-29','Star Rating',1)\n",
    "\n",
    "plt.figure(figsize=(10,7))\n",
    "axes = plt.gca()\n",
    "axes.set_ylim([-2.1,2.1])\n",
    "plt.title(\"ANMC Summary Scores with Linear Trajectory\")\n",
    "plt.xlabel('Date')\n",
    "plt.ylabel('ANMC Summary Score Rating')\n",
    "plt.scatter(plot.index.values,plot['Summary Score']);\n",
    "plt.axhline(y=-1.05,color='red')\n",
    "plt.axhline(y=-1.00,color='orange')\n",
    "plt.axhline(y=-.38,color='orange')\n",
    "plt.axhline(y=-.33,color='yellow')\n",
    "plt.axhline(y=.20,color='yellow')\n",
    "plt.axhline(y=.25,color='cyan')\n",
    "plt.axhline(y=.82,color='cyan')\n",
    "plt.axhline(y=.87,color='green')\n",
    "plt.axhline(y=2,color='green')\n",
    "plt.axhline(y=-2,color='red')"
   ]
  },
  {
   "cell_type": "code",
   "execution_count": null,
   "metadata": {
    "collapsed": false
   },
   "outputs": [],
   "source": []
  }
 ],
 "metadata": {
  "kernelspec": {
   "display_name": "Python 2",
   "language": "python",
   "name": "python2"
  },
  "language_info": {
   "codemirror_mode": {
    "name": "ipython",
    "version": 2
   },
   "file_extension": ".py",
   "mimetype": "text/x-python",
   "name": "python",
   "nbconvert_exporter": "python",
   "pygments_lexer": "ipython2",
   "version": "2.7.11"
  }
 },
 "nbformat": 4,
 "nbformat_minor": 0
}
