{
 "cells": [
  {
   "cell_type": "code",
   "execution_count": 1,
   "metadata": {
    "collapsed": false
   },
   "outputs": [
    {
     "name": "stdout",
     "output_type": "stream",
     "text": [
      "(3053, 127)\n",
      "(1504, 127)\n",
      "(3053L, 127L)\n",
      "(1504L, 127L)\n"
     ]
    }
   ],
   "source": [
    "import pandas as pd\n",
    "import matplotlib.pyplot as plt\n",
    "import warnings\n",
    "warnings.filterwarnings(\"ignore\")\n",
    "import seaborn as sns\n",
    "from sklearn.model_selection import train_test_split\n",
    "from sklearn.metrics import mean_squared_error\n",
    "from sklearn.tree import DecisionTreeRegressor\n",
    "from sklearn.ensemble import RandomForestRegressor\n",
    "%matplotlib inline\n",
    "import matplotlib \n",
    "import numpy as np\n",
    "\n",
    "#Read in Raw Data CSV\n",
    "raw = pd.read_csv(\"C:/Users/dtcarroll/Desktop/2016 Oct SAS pack/Raw.csv\")\n",
    "\n",
    "#Lets prepare the data to train a classification model\n",
    "Y = raw[\"Star Rating\"]\n",
    "X = raw.drop(\"Star Rating\",axis=1)\n",
    "X = X.drop(\"PROVIDER_ID\",axis=1)\n",
    "\n",
    "#Split data into train/test\n",
    "X_train, X_test, y_train, y_test = train_test_split(\n",
    "X, Y,\n",
    "test_size=0.33, random_state=42)\n",
    "print(X_train.shape)\n",
    "print(X_test.shape)\n",
    "\n",
    "#Most ML solutions do not handle NAN values effectively - we will try to replace them with the mean for the column.\n",
    "from sklearn.preprocessing import Imputer\n",
    "imp = Imputer(missing_values='NaN', strategy='mean', axis=0)\n",
    "imp = imp.fit(X_train)\n",
    "X_train = imp.transform(X_train)\n",
    "print(X_train.shape)\n",
    "imp2 = Imputer(missing_values='NaN', strategy='mean', axis=0)\n",
    "imp2 = imp2.fit(X_test)\n",
    "X_test = imp.transform(X_test)\n",
    "print(X_test.shape)"
   ]
  },
  {
   "cell_type": "code",
   "execution_count": 2,
   "metadata": {
    "collapsed": false
   },
   "outputs": [
    {
     "name": "stdout",
     "output_type": "stream",
     "text": [
      "Accuracy: 0.55 [Multi Layer Perceptron]\n",
      "Accuracy: 0.76 [Gradient Boosting]\n",
      "Accuracy: 0.59 [Ada Boost]\n",
      "Accuracy: 0.52 [K-Nearest Neighbors]\n",
      "Accuracy: 0.76 [Random Forest Classifier]\n",
      "Accuracy: 0.67 [Ridge Classifier - CV]\n",
      "Accuracy: 0.62 [Ensemble]\n"
     ]
    }
   ],
   "source": [
    "from sklearn.neural_network import MLPClassifier\n",
    "from sklearn.model_selection import cross_val_score\n",
    "from sklearn.ensemble import GradientBoostingClassifier\n",
    "from sklearn.ensemble import AdaBoostClassifier\n",
    "from sklearn.ensemble import VotingClassifier\n",
    "from sklearn.neighbors import KNeighborsClassifier\n",
    "from sklearn.ensemble import RandomForestClassifier\n",
    "from sklearn.metrics import accuracy_score\n",
    "from sklearn.linear_model import  RidgeClassifierCV\n",
    "from sklearn.model_selection import RandomizedSearchCV\n",
    "from scipy.stats import uniform as sp_rand\n",
    "\n",
    "\n",
    "clf0 = MLPClassifier(solver='lbfgs', alpha=1e-5,\n",
    "                                 hidden_layer_sizes=(5, 2), random_state=1)\n",
    "\n",
    "\n",
    "clf1 = GradientBoostingClassifier(n_estimators=100, learning_rate=1.0,\n",
    "                                 max_depth = 1, random_state=0).fit(X_train,y_train)\n",
    "\n",
    "\n",
    "clf2 = AdaBoostClassifier(n_estimators=200)\n",
    "\n",
    "\n",
    "clf3 = KNeighborsClassifier(n_neighbors=10, weights='uniform', algorithm='auto', leaf_size=30, p=2,\n",
    "                           metric='minkowski', metric_params=None, n_jobs=1)\n",
    "\n",
    "clf4 = RandomForestClassifier(n_estimators = 200, max_depth = None, min_samples_split=2,random_state=0)\n",
    "\n",
    "cl5 = RidgeClassifierCV(alphas=(0.1, 1.0, 10.0), fit_intercept=True, normalize=False,\n",
    "                        scoring=None, cv=None, class_weight=None)\n",
    "\n",
    "eclf = VotingClassifier(estimators=[('MLP', clf0), ('GB', clf1), ('ADA', clf2)], voting='hard')\n",
    "\n",
    "for clf, label in zip([clf0,clf1, clf2, clf3, clf4, cl5, eclf], ['Multi Layer Perceptron', 'Gradient Boosting', 'Ada Boost',\n",
    "                                                      'K-Nearest Neighbors', 'Random Forest Classifier','Ridge Classifier - CV', 'Ensemble']):\n",
    "    \n",
    "    clf.fit(X_train,y_train)\n",
    "    predict = clf.predict(X_test)\n",
    "    score = accuracy_score(y_test, predict)\n",
    "    print(\"Accuracy: %0.2f [%s]\" % (score, label))"
   ]
  },
  {
   "cell_type": "code",
   "execution_count": 23,
   "metadata": {
    "collapsed": false
   },
   "outputs": [
    {
     "name": "stdout",
     "output_type": "stream",
     "text": [
      "Accuracy :  0.792553191489\n"
     ]
    }
   ],
   "source": [
    "# It looks like we can get some decent performance out of Gradient Boosting and Random Forest \n",
    "# Lets look at those results in particular.\n",
    "\n",
    "clf1 = GradientBoostingClassifier(n_estimators=100, learning_rate=1.0,\n",
    "                                 max_depth = 2, random_state=0).fit(X_train,y_train)\n",
    "\n",
    "clf1.fit(X_train,y_train)\n",
    "predict = clf1.predict(X_test)\n",
    "score = accuracy_score(y_test, predict)\n",
    "print \"Accuracy : \", score"
   ]
  },
  {
   "cell_type": "code",
   "execution_count": 24,
   "metadata": {
    "collapsed": false
   },
   "outputs": [],
   "source": [
    "# Looks pretty cool, lets try and run the whole dataset to see how we do\n",
    "X = imp.transform(X)\n",
    "final_predict = clf1.predict(X)"
   ]
  },
  {
   "cell_type": "code",
   "execution_count": 25,
   "metadata": {
    "collapsed": false
   },
   "outputs": [
    {
     "data": {
      "text/plain": [
       "4557"
      ]
     },
     "execution_count": 25,
     "metadata": {},
     "output_type": "execute_result"
    }
   ],
   "source": [
    "len(final_predict)"
   ]
  },
  {
   "cell_type": "code",
   "execution_count": 26,
   "metadata": {
    "collapsed": false
   },
   "outputs": [
    {
     "data": {
      "text/plain": [
       "4557"
      ]
     },
     "execution_count": 26,
     "metadata": {},
     "output_type": "execute_result"
    }
   ],
   "source": [
    "len(raw)"
   ]
  },
  {
   "cell_type": "code",
   "execution_count": 27,
   "metadata": {
    "collapsed": false
   },
   "outputs": [],
   "source": [
    "raw['Predicted Star Rating'] = final_predict"
   ]
  },
  {
   "cell_type": "code",
   "execution_count": 28,
   "metadata": {
    "collapsed": false
   },
   "outputs": [
    {
     "data": {
      "text/html": [
       "<div>\n",
       "<table border=\"1\" class=\"dataframe\">\n",
       "  <thead>\n",
       "    <tr style=\"text-align: right;\">\n",
       "      <th></th>\n",
       "      <th>PROVIDER_ID</th>\n",
       "      <th>HAI_1_DEN</th>\n",
       "      <th>HAI_2_DEN</th>\n",
       "      <th>HAI_3_DEN</th>\n",
       "      <th>HAI_4_DEN</th>\n",
       "      <th>HAI_5_DEN</th>\n",
       "      <th>HAI_6_DEN</th>\n",
       "      <th>HAI_1</th>\n",
       "      <th>HAI_2</th>\n",
       "      <th>HAI_3</th>\n",
       "      <th>...</th>\n",
       "      <th>MORT_30_CABG</th>\n",
       "      <th>MORT_30_CABG_DEN</th>\n",
       "      <th>READM_30_CABG</th>\n",
       "      <th>READM_30_CABG_DEN</th>\n",
       "      <th>AMI_7A</th>\n",
       "      <th>AMI_7A_DEN</th>\n",
       "      <th>CAC_3</th>\n",
       "      <th>CAC_3_DEN</th>\n",
       "      <th>Star Rating</th>\n",
       "      <th>Predicted Star Rating</th>\n",
       "    </tr>\n",
       "  </thead>\n",
       "  <tbody>\n",
       "    <tr>\n",
       "      <th>0</th>\n",
       "      <td>10001</td>\n",
       "      <td>9.198</td>\n",
       "      <td>20.321</td>\n",
       "      <td>5.347</td>\n",
       "      <td>1.721</td>\n",
       "      <td>7.111</td>\n",
       "      <td>47.018</td>\n",
       "      <td>1.740</td>\n",
       "      <td>1.427</td>\n",
       "      <td>1.870</td>\n",
       "      <td>...</td>\n",
       "      <td>0.042</td>\n",
       "      <td>278.0</td>\n",
       "      <td>0.151</td>\n",
       "      <td>273.0</td>\n",
       "      <td>NaN</td>\n",
       "      <td>NaN</td>\n",
       "      <td>NaN</td>\n",
       "      <td>NaN</td>\n",
       "      <td>3</td>\n",
       "      <td>3</td>\n",
       "    </tr>\n",
       "    <tr>\n",
       "      <th>1</th>\n",
       "      <td>10005</td>\n",
       "      <td>3.767</td>\n",
       "      <td>10.965</td>\n",
       "      <td>2.594</td>\n",
       "      <td>NaN</td>\n",
       "      <td>1.441</td>\n",
       "      <td>17.293</td>\n",
       "      <td>1.062</td>\n",
       "      <td>0.456</td>\n",
       "      <td>0.386</td>\n",
       "      <td>...</td>\n",
       "      <td>NaN</td>\n",
       "      <td>NaN</td>\n",
       "      <td>NaN</td>\n",
       "      <td>NaN</td>\n",
       "      <td>NaN</td>\n",
       "      <td>NaN</td>\n",
       "      <td>NaN</td>\n",
       "      <td>NaN</td>\n",
       "      <td>3</td>\n",
       "      <td>3</td>\n",
       "    </tr>\n",
       "    <tr>\n",
       "      <th>2</th>\n",
       "      <td>10006</td>\n",
       "      <td>17.577</td>\n",
       "      <td>23.383</td>\n",
       "      <td>3.226</td>\n",
       "      <td>NaN</td>\n",
       "      <td>3.173</td>\n",
       "      <td>33.115</td>\n",
       "      <td>0.341</td>\n",
       "      <td>0.641</td>\n",
       "      <td>0.310</td>\n",
       "      <td>...</td>\n",
       "      <td>0.041</td>\n",
       "      <td>139.0</td>\n",
       "      <td>0.152</td>\n",
       "      <td>134.0</td>\n",
       "      <td>NaN</td>\n",
       "      <td>NaN</td>\n",
       "      <td>NaN</td>\n",
       "      <td>NaN</td>\n",
       "      <td>2</td>\n",
       "      <td>2</td>\n",
       "    </tr>\n",
       "    <tr>\n",
       "      <th>3</th>\n",
       "      <td>10007</td>\n",
       "      <td>NaN</td>\n",
       "      <td>1.547</td>\n",
       "      <td>NaN</td>\n",
       "      <td>NaN</td>\n",
       "      <td>NaN</td>\n",
       "      <td>3.699</td>\n",
       "      <td>NaN</td>\n",
       "      <td>0.000</td>\n",
       "      <td>NaN</td>\n",
       "      <td>...</td>\n",
       "      <td>NaN</td>\n",
       "      <td>NaN</td>\n",
       "      <td>NaN</td>\n",
       "      <td>NaN</td>\n",
       "      <td>NaN</td>\n",
       "      <td>NaN</td>\n",
       "      <td>NaN</td>\n",
       "      <td>NaN</td>\n",
       "      <td>3</td>\n",
       "      <td>3</td>\n",
       "    </tr>\n",
       "    <tr>\n",
       "      <th>4</th>\n",
       "      <td>10008</td>\n",
       "      <td>NaN</td>\n",
       "      <td>NaN</td>\n",
       "      <td>NaN</td>\n",
       "      <td>NaN</td>\n",
       "      <td>NaN</td>\n",
       "      <td>1.711</td>\n",
       "      <td>NaN</td>\n",
       "      <td>NaN</td>\n",
       "      <td>NaN</td>\n",
       "      <td>...</td>\n",
       "      <td>NaN</td>\n",
       "      <td>NaN</td>\n",
       "      <td>NaN</td>\n",
       "      <td>NaN</td>\n",
       "      <td>NaN</td>\n",
       "      <td>NaN</td>\n",
       "      <td>NaN</td>\n",
       "      <td>NaN</td>\n",
       "      <td>3</td>\n",
       "      <td>3</td>\n",
       "    </tr>\n",
       "  </tbody>\n",
       "</table>\n",
       "<p>5 rows × 130 columns</p>\n",
       "</div>"
      ],
      "text/plain": [
       "   PROVIDER_ID  HAI_1_DEN  HAI_2_DEN  HAI_3_DEN  HAI_4_DEN  HAI_5_DEN  \\\n",
       "0        10001      9.198     20.321      5.347      1.721      7.111   \n",
       "1        10005      3.767     10.965      2.594        NaN      1.441   \n",
       "2        10006     17.577     23.383      3.226        NaN      3.173   \n",
       "3        10007        NaN      1.547        NaN        NaN        NaN   \n",
       "4        10008        NaN        NaN        NaN        NaN        NaN   \n",
       "\n",
       "   HAI_6_DEN  HAI_1  HAI_2  HAI_3          ...            MORT_30_CABG  \\\n",
       "0     47.018  1.740  1.427  1.870          ...                   0.042   \n",
       "1     17.293  1.062  0.456  0.386          ...                     NaN   \n",
       "2     33.115  0.341  0.641  0.310          ...                   0.041   \n",
       "3      3.699    NaN  0.000    NaN          ...                     NaN   \n",
       "4      1.711    NaN    NaN    NaN          ...                     NaN   \n",
       "\n",
       "   MORT_30_CABG_DEN  READM_30_CABG  READM_30_CABG_DEN  AMI_7A  AMI_7A_DEN  \\\n",
       "0             278.0          0.151              273.0     NaN         NaN   \n",
       "1               NaN            NaN                NaN     NaN         NaN   \n",
       "2             139.0          0.152              134.0     NaN         NaN   \n",
       "3               NaN            NaN                NaN     NaN         NaN   \n",
       "4               NaN            NaN                NaN     NaN         NaN   \n",
       "\n",
       "   CAC_3  CAC_3_DEN  Star Rating  Predicted Star Rating  \n",
       "0    NaN        NaN            3                      3  \n",
       "1    NaN        NaN            3                      3  \n",
       "2    NaN        NaN            2                      2  \n",
       "3    NaN        NaN            3                      3  \n",
       "4    NaN        NaN            3                      3  \n",
       "\n",
       "[5 rows x 130 columns]"
      ]
     },
     "execution_count": 28,
     "metadata": {},
     "output_type": "execute_result"
    }
   ],
   "source": [
    "raw.head()"
   ]
  },
  {
   "cell_type": "code",
   "execution_count": 29,
   "metadata": {
    "collapsed": true
   },
   "outputs": [],
   "source": [
    "anmc = raw.loc[raw['PROVIDER_ID'] == 20026]"
   ]
  },
  {
   "cell_type": "code",
   "execution_count": 30,
   "metadata": {
    "collapsed": false
   },
   "outputs": [
    {
     "data": {
      "text/html": [
       "<div>\n",
       "<table border=\"1\" class=\"dataframe\">\n",
       "  <thead>\n",
       "    <tr style=\"text-align: right;\">\n",
       "      <th></th>\n",
       "      <th>PROVIDER_ID</th>\n",
       "      <th>HAI_1_DEN</th>\n",
       "      <th>HAI_2_DEN</th>\n",
       "      <th>HAI_3_DEN</th>\n",
       "      <th>HAI_4_DEN</th>\n",
       "      <th>HAI_5_DEN</th>\n",
       "      <th>HAI_6_DEN</th>\n",
       "      <th>HAI_1</th>\n",
       "      <th>HAI_2</th>\n",
       "      <th>HAI_3</th>\n",
       "      <th>...</th>\n",
       "      <th>MORT_30_CABG</th>\n",
       "      <th>MORT_30_CABG_DEN</th>\n",
       "      <th>READM_30_CABG</th>\n",
       "      <th>READM_30_CABG_DEN</th>\n",
       "      <th>AMI_7A</th>\n",
       "      <th>AMI_7A_DEN</th>\n",
       "      <th>CAC_3</th>\n",
       "      <th>CAC_3_DEN</th>\n",
       "      <th>Star Rating</th>\n",
       "      <th>Predicted Star Rating</th>\n",
       "    </tr>\n",
       "  </thead>\n",
       "  <tbody>\n",
       "    <tr>\n",
       "      <th>95</th>\n",
       "      <td>20026</td>\n",
       "      <td>5.819</td>\n",
       "      <td>5.277</td>\n",
       "      <td>4.554</td>\n",
       "      <td>NaN</td>\n",
       "      <td>1.974</td>\n",
       "      <td>24.518</td>\n",
       "      <td>0.687</td>\n",
       "      <td>0.948</td>\n",
       "      <td>1.098</td>\n",
       "      <td>...</td>\n",
       "      <td>NaN</td>\n",
       "      <td>NaN</td>\n",
       "      <td>NaN</td>\n",
       "      <td>NaN</td>\n",
       "      <td>NaN</td>\n",
       "      <td>NaN</td>\n",
       "      <td>0.92</td>\n",
       "      <td>12.0</td>\n",
       "      <td>2</td>\n",
       "      <td>2</td>\n",
       "    </tr>\n",
       "  </tbody>\n",
       "</table>\n",
       "<p>1 rows × 130 columns</p>\n",
       "</div>"
      ],
      "text/plain": [
       "    PROVIDER_ID  HAI_1_DEN  HAI_2_DEN  HAI_3_DEN  HAI_4_DEN  HAI_5_DEN  \\\n",
       "95        20026      5.819      5.277      4.554        NaN      1.974   \n",
       "\n",
       "    HAI_6_DEN  HAI_1  HAI_2  HAI_3          ...            MORT_30_CABG  \\\n",
       "95     24.518  0.687  0.948  1.098          ...                     NaN   \n",
       "\n",
       "    MORT_30_CABG_DEN  READM_30_CABG  READM_30_CABG_DEN  AMI_7A  AMI_7A_DEN  \\\n",
       "95               NaN            NaN                NaN     NaN         NaN   \n",
       "\n",
       "    CAC_3  CAC_3_DEN  Star Rating  Predicted Star Rating  \n",
       "95   0.92       12.0            2                      2  \n",
       "\n",
       "[1 rows x 130 columns]"
      ]
     },
     "execution_count": 30,
     "metadata": {},
     "output_type": "execute_result"
    }
   ],
   "source": [
    "anmc\n"
   ]
  },
  {
   "cell_type": "code",
   "execution_count": null,
   "metadata": {
    "collapsed": true
   },
   "outputs": [],
   "source": []
  }
 ],
 "metadata": {
  "kernelspec": {
   "display_name": "Python 2",
   "language": "python",
   "name": "python2"
  },
  "language_info": {
   "codemirror_mode": {
    "name": "ipython",
    "version": 2
   },
   "file_extension": ".py",
   "mimetype": "text/x-python",
   "name": "python",
   "nbconvert_exporter": "python",
   "pygments_lexer": "ipython2",
   "version": "2.7.11"
  }
 },
 "nbformat": 4,
 "nbformat_minor": 0
}
